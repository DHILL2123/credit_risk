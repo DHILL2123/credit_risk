{
 "cells": [
  {
   "attachments": {},
   "cell_type": "markdown",
   "id": "336f2815",
   "metadata": {},
   "source": [
    "\n",
    "![alternatvie text](https://miro.medium.com/v2/resize:fit:1400/format:webp/1*UDi7KpyFX8gwV1k7aeMS-g.jpeg)\n",
    "# Goal:\n",
    "\n",
    "* Identify drivers of credit risk\n",
    "* Create a machine learning model to predict credit risk"
   ]
  },
  {
   "cell_type": "markdown",
   "id": "16bb99ec",
   "metadata": {},
   "source": [
    "# Acquire Data"
   ]
  },
  {
   "cell_type": "code",
   "execution_count": null,
   "id": "2d2734df",
   "metadata": {},
   "outputs": [],
   "source": [
    "#Import Libraries\n",
    "import pandas as pd\n",
    "from sklearn.linear_model import LogisticRegression\n",
    "from sklearn.model_selection import train_test_split\n",
    "from sklearn.metrics import accuracy_score, classification_report"
   ]
  },
  {
   "cell_type": "code",
   "execution_count": null,
   "id": "47785227",
   "metadata": {},
   "outputs": [],
   "source": [
    "# Load the dataset\n",
    "data = pd.read_csv('credit_risk.csv')"
   ]
  }
 ],
 "metadata": {
  "kernelspec": {
   "display_name": "Python 3 (ipykernel)",
   "language": "python",
   "name": "python3"
  },
  "language_info": {
   "codemirror_mode": {
    "name": "ipython",
    "version": 3
   },
   "file_extension": ".py",
   "mimetype": "text/x-python",
   "name": "python",
   "nbconvert_exporter": "python",
   "pygments_lexer": "ipython3",
   "version": "3.9.13"
  }
 },
 "nbformat": 4,
 "nbformat_minor": 5
}
